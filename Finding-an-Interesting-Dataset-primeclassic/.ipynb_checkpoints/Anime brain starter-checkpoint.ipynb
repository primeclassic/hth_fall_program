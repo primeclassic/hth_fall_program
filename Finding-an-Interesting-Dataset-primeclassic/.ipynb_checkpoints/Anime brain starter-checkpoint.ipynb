{
 "cells": [
  {
   "cell_type": "code",
   "execution_count": 48,
   "id": "988fbca6",
   "metadata": {},
   "outputs": [
    {
     "data": {
      "text/plain": [
       "title           222\n",
       "mediaType       220\n",
       "eps             222\n",
       "duration        129\n",
       "ongoing         222\n",
       "startYr         222\n",
       "finishYr          0\n",
       "sznOfRelease    108\n",
       "description      99\n",
       "studios         222\n",
       "tags            222\n",
       "contentWarn     222\n",
       "watched           0\n",
       "watching        222\n",
       "wantWatch       222\n",
       "dropped         222\n",
       "rating          115\n",
       "votes           115\n",
       "dtype: int64"
      ]
     },
     "execution_count": 48,
     "metadata": {},
     "output_type": "execute_result"
    }
   ],
   "source": [
    "import pandas\n",
    "\n",
    "pandas.options.display.max_columns = None\n",
    "pandas.options.display.max_rows = None\n",
    "# How many animes on the list is still ongoing?\n",
    "anime_data = pandas.read_csv(\"anime.csv\")\n",
    "ongoing = anime_data[anime_data['ongoing'] == True].count()\n",
    "ongoing\n",
    "#csv_data.head(100)"
   ]
  },
  {
   "cell_type": "code",
   "execution_count": null,
   "id": "5010964f",
   "metadata": {},
   "outputs": [],
   "source": []
  }
 ],
 "metadata": {
  "kernelspec": {
   "display_name": "Python 3 (ipykernel)",
   "language": "python",
   "name": "python3"
  },
  "language_info": {
   "codemirror_mode": {
    "name": "ipython",
    "version": 3
   },
   "file_extension": ".py",
   "mimetype": "text/x-python",
   "name": "python",
   "nbconvert_exporter": "python",
   "pygments_lexer": "ipython3",
   "version": "3.10.7"
  }
 },
 "nbformat": 4,
 "nbformat_minor": 5
}
