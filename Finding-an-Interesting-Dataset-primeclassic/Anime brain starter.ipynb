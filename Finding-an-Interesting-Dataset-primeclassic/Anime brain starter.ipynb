{
 "cells": [
  {
   "cell_type": "code",
   "execution_count": 48,
   "id": "988fbca6",
   "metadata": {},
   "outputs": [
    {
     "data": {
      "text/plain": [
       "title           222\n",
       "mediaType       220\n",
       "eps             222\n",
       "duration        129\n",
       "ongoing         222\n",
       "startYr         222\n",
       "finishYr          0\n",
       "sznOfRelease    108\n",
       "description      99\n",
       "studios         222\n",
       "tags            222\n",
       "contentWarn     222\n",
       "watched           0\n",
       "watching        222\n",
       "wantWatch       222\n",
       "dropped         222\n",
       "rating          115\n",
       "votes           115\n",
       "dtype: int64"
      ]
     },
     "execution_count": 48,
     "metadata": {},
     "output_type": "execute_result"
    }
   ],
   "source": [
    "import pandas\n",
    "\n",
    "pandas.options.display.max_columns = None\n",
    "pandas.options.display.max_rows = None\n",
    "# How many animes on the list is still ongoing?\n",
    "anime_data = pandas.read_csv(\"anime.csv\")\n",
    "ongoing = anime_data[anime_data['ongoing'] == True].count()\n",
    "ongoing\n",
    "#csv_data.head(100)"
   ]
  },
  {
   "cell_type": "code",
   "execution_count": 208,
   "id": "5010964f",
   "metadata": {},
   "outputs": [
    {
     "data": {
      "text/plain": [
       "<bound method Series.unique of count     14578\n",
       "unique      864\n",
       "top          []\n",
       "freq       4808\n",
       "Name: studios, dtype: object>"
      ]
     },
     "execution_count": 208,
     "metadata": {},
     "output_type": "execute_result"
    }
   ],
   "source": [
    "import pandas\n",
    "\n",
    "pandas.options.display.max_columns = None\n",
    "pandas.options.display.max_rows = None\n",
    "#How many different anime studios are there?\n",
    "anime_data = pandas.read_csv(\"anime.csv\")\n",
    "# studios = [anime_data['studios'].unique()]\n",
    "# studios\n",
    "unique_studios = anime_data.studios\n",
    "unique_studios.describe().unique\n",
    "\n",
    "\n"
   ]
  },
  {
   "cell_type": "code",
   "execution_count": 216,
   "id": "3a367716",
   "metadata": {},
   "outputs": [
    {
     "data": {
      "text/html": [
       "<div>\n",
       "<style scoped>\n",
       "    .dataframe tbody tr th:only-of-type {\n",
       "        vertical-align: middle;\n",
       "    }\n",
       "\n",
       "    .dataframe tbody tr th {\n",
       "        vertical-align: top;\n",
       "    }\n",
       "\n",
       "    .dataframe thead th {\n",
       "        text-align: right;\n",
       "    }\n",
       "</style>\n",
       "<table border=\"1\" class=\"dataframe\">\n",
       "  <thead>\n",
       "    <tr style=\"text-align: right;\">\n",
       "      <th></th>\n",
       "      <th>title</th>\n",
       "      <th>mediaType</th>\n",
       "      <th>eps</th>\n",
       "      <th>duration</th>\n",
       "      <th>ongoing</th>\n",
       "      <th>startYr</th>\n",
       "      <th>finishYr</th>\n",
       "      <th>sznOfRelease</th>\n",
       "      <th>description</th>\n",
       "      <th>studios</th>\n",
       "      <th>tags</th>\n",
       "      <th>contentWarn</th>\n",
       "      <th>watched</th>\n",
       "      <th>watching</th>\n",
       "      <th>wantWatch</th>\n",
       "      <th>dropped</th>\n",
       "      <th>rating</th>\n",
       "      <th>votes</th>\n",
       "    </tr>\n",
       "  </thead>\n",
       "  <tbody>\n",
       "    <tr>\n",
       "      <th>9964</th>\n",
       "      <td>Katsudou Shashin</td>\n",
       "      <td>Movie</td>\n",
       "      <td>1.0</td>\n",
       "      <td>1.0</td>\n",
       "      <td>False</td>\n",
       "      <td>1907.0</td>\n",
       "      <td>1907.0</td>\n",
       "      <td>NaN</td>\n",
       "      <td>The animation depicts a young boy wearing a sa...</td>\n",
       "      <td>[]</td>\n",
       "      <td>['No Dialogue', 'Shorts']</td>\n",
       "      <td>[]</td>\n",
       "      <td>399.0</td>\n",
       "      <td>1</td>\n",
       "      <td>33</td>\n",
       "      <td>3</td>\n",
       "      <td>2.083</td>\n",
       "      <td>217.0</td>\n",
       "    </tr>\n",
       "  </tbody>\n",
       "</table>\n",
       "</div>"
      ],
      "text/plain": [
       "                 title mediaType  eps  duration  ongoing  startYr  finishYr  \\\n",
       "9964  Katsudou Shashin     Movie  1.0       1.0    False   1907.0    1907.0   \n",
       "\n",
       "     sznOfRelease                                        description studios  \\\n",
       "9964          NaN  The animation depicts a young boy wearing a sa...      []   \n",
       "\n",
       "                           tags contentWarn  watched  watching  wantWatch  \\\n",
       "9964  ['No Dialogue', 'Shorts']          []    399.0         1         33   \n",
       "\n",
       "      dropped  rating  votes  \n",
       "9964        3   2.083  217.0  "
      ]
     },
     "execution_count": 216,
     "metadata": {},
     "output_type": "execute_result"
    }
   ],
   "source": [
    "#What is the oldest anime on the list?\n",
    "anime_data = pandas.read_csv(\"anime.csv\")\n",
    "# anime_data['duration'].dropna().sort_values('startYR', ascending = False)\n",
    "oldest_anime = anime_data.sort_values('startYr',ascending = True)\n",
    "oldest_anime.head(1)\n"
   ]
  },
  {
   "cell_type": "code",
   "execution_count": 188,
   "id": "b3a71fdf",
   "metadata": {},
   "outputs": [
    {
     "data": {
      "text/html": [
       "<div>\n",
       "<style scoped>\n",
       "    .dataframe tbody tr th:only-of-type {\n",
       "        vertical-align: middle;\n",
       "    }\n",
       "\n",
       "    .dataframe tbody tr th {\n",
       "        vertical-align: top;\n",
       "    }\n",
       "\n",
       "    .dataframe thead th {\n",
       "        text-align: right;\n",
       "    }\n",
       "</style>\n",
       "<table border=\"1\" class=\"dataframe\">\n",
       "  <thead>\n",
       "    <tr style=\"text-align: right;\">\n",
       "      <th></th>\n",
       "      <th>title</th>\n",
       "      <th>mediaType</th>\n",
       "      <th>eps</th>\n",
       "      <th>duration</th>\n",
       "      <th>ongoing</th>\n",
       "      <th>startYr</th>\n",
       "      <th>finishYr</th>\n",
       "      <th>sznOfRelease</th>\n",
       "      <th>description</th>\n",
       "      <th>studios</th>\n",
       "      <th>tags</th>\n",
       "      <th>contentWarn</th>\n",
       "      <th>watched</th>\n",
       "      <th>watching</th>\n",
       "      <th>wantWatch</th>\n",
       "      <th>dropped</th>\n",
       "      <th>rating</th>\n",
       "      <th>votes</th>\n",
       "    </tr>\n",
       "  </thead>\n",
       "  <tbody>\n",
       "    <tr>\n",
       "      <th>12500</th>\n",
       "      <td>Balgwanghaneun Hyeondaesa</td>\n",
       "      <td>Movie</td>\n",
       "      <td>1.0</td>\n",
       "      <td>235.0</td>\n",
       "      <td>False</td>\n",
       "      <td>2014.0</td>\n",
       "      <td>2014.0</td>\n",
       "      <td>NaN</td>\n",
       "      <td>NaN</td>\n",
       "      <td>['Studio Dadashow']</td>\n",
       "      <td>['Drama', 'Korean Animation']</td>\n",
       "      <td>[]</td>\n",
       "      <td>10.0</td>\n",
       "      <td>1</td>\n",
       "      <td>31</td>\n",
       "      <td>0</td>\n",
       "      <td>NaN</td>\n",
       "      <td>NaN</td>\n",
       "    </tr>\n",
       "  </tbody>\n",
       "</table>\n",
       "</div>"
      ],
      "text/plain": [
       "                           title mediaType  eps  duration  ongoing  startYr  \\\n",
       "12500  Balgwanghaneun Hyeondaesa     Movie  1.0     235.0    False   2014.0   \n",
       "\n",
       "       finishYr sznOfRelease description              studios  \\\n",
       "12500    2014.0          NaN         NaN  ['Studio Dadashow']   \n",
       "\n",
       "                                tags contentWarn  watched  watching  \\\n",
       "12500  ['Drama', 'Korean Animation']          []     10.0         1   \n",
       "\n",
       "       wantWatch  dropped  rating  votes  \n",
       "12500         31        0     NaN    NaN  "
      ]
     },
     "execution_count": 188,
     "metadata": {},
     "output_type": "execute_result"
    }
   ],
   "source": [
    "#What is the longest duration(startYr to finishYr) of anime?\n",
    "anime_data = pandas.read_csv(\"anime.csv\")\n",
    "average_duration = anime_data.sort_values('duration',ascending = False)\n",
    "average_duration.head(1)\n",
    "\n"
   ]
  },
  {
   "cell_type": "code",
   "execution_count": null,
   "id": "4977cc09",
   "metadata": {},
   "outputs": [],
   "source": []
  }
 ],
 "metadata": {
  "kernelspec": {
   "display_name": "Python 3 (ipykernel)",
   "language": "python",
   "name": "python3"
  },
  "language_info": {
   "codemirror_mode": {
    "name": "ipython",
    "version": 3
   },
   "file_extension": ".py",
   "mimetype": "text/x-python",
   "name": "python",
   "nbconvert_exporter": "python",
   "pygments_lexer": "ipython3",
   "version": "3.10.7"
  }
 },
 "nbformat": 4,
 "nbformat_minor": 5
}
