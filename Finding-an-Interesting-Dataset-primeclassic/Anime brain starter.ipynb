{
 "cells": [
  {
   "cell_type": "code",
   "execution_count": 1,
   "id": "988fbca6",
   "metadata": {},
   "outputs": [
    {
     "data": {
      "text/plain": [
       "222"
      ]
     },
     "execution_count": 1,
     "metadata": {},
     "output_type": "execute_result"
    }
   ],
   "source": [
    "import pandas\n",
    "import seaborn\n",
    "import matplotlib.pyplot as plt\n",
    "\n",
    "pandas.options.display.max_columns = None\n",
    "pandas.options.display.max_rows = None\n",
    "# How many animes on the list is still ongoing?\n",
    "anime_data = pandas.read_csv(\"anime.csv\")\n",
    "ongoing = anime_data[anime_data['ongoing'] == True].count()\n",
    "ongoing.ongoing\n",
    "#csv_data.head(100)"
   ]
  },
  {
   "cell_type": "code",
   "execution_count": 181,
   "id": "3a367716",
   "metadata": {},
   "outputs": [
    {
     "data": {
      "text/html": [
       "<div>\n",
       "<style scoped>\n",
       "    .dataframe tbody tr th:only-of-type {\n",
       "        vertical-align: middle;\n",
       "    }\n",
       "\n",
       "    .dataframe tbody tr th {\n",
       "        vertical-align: top;\n",
       "    }\n",
       "\n",
       "    .dataframe thead th {\n",
       "        text-align: right;\n",
       "    }\n",
       "</style>\n",
       "<table border=\"1\" class=\"dataframe\">\n",
       "  <thead>\n",
       "    <tr style=\"text-align: right;\">\n",
       "      <th></th>\n",
       "      <th>title</th>\n",
       "      <th>mediaType</th>\n",
       "      <th>eps</th>\n",
       "      <th>duration</th>\n",
       "      <th>ongoing</th>\n",
       "      <th>startYr</th>\n",
       "      <th>finishYr</th>\n",
       "      <th>sznOfRelease</th>\n",
       "      <th>description</th>\n",
       "      <th>studios</th>\n",
       "      <th>tags</th>\n",
       "      <th>contentWarn</th>\n",
       "      <th>watched</th>\n",
       "      <th>watching</th>\n",
       "      <th>wantWatch</th>\n",
       "      <th>dropped</th>\n",
       "      <th>rating</th>\n",
       "      <th>votes</th>\n",
       "    </tr>\n",
       "  </thead>\n",
       "  <tbody>\n",
       "    <tr>\n",
       "      <th>9964</th>\n",
       "      <td>Katsudou Shashin</td>\n",
       "      <td>Movie</td>\n",
       "      <td>1.0</td>\n",
       "      <td>1.0</td>\n",
       "      <td>False</td>\n",
       "      <td>1907.0</td>\n",
       "      <td>1907.0</td>\n",
       "      <td>NaN</td>\n",
       "      <td>The animation depicts a young boy wearing a sa...</td>\n",
       "      <td>[]</td>\n",
       "      <td>['No Dialogue', 'Shorts']</td>\n",
       "      <td>[]</td>\n",
       "      <td>399.0</td>\n",
       "      <td>1</td>\n",
       "      <td>33</td>\n",
       "      <td>3</td>\n",
       "      <td>2.083</td>\n",
       "      <td>217.0</td>\n",
       "    </tr>\n",
       "  </tbody>\n",
       "</table>\n",
       "</div>"
      ],
      "text/plain": [
       "                 title mediaType  eps  duration  ongoing  startYr  finishYr  \\\n",
       "9964  Katsudou Shashin     Movie  1.0       1.0    False   1907.0    1907.0   \n",
       "\n",
       "     sznOfRelease                                        description studios  \\\n",
       "9964          NaN  The animation depicts a young boy wearing a sa...      []   \n",
       "\n",
       "                           tags contentWarn  watched  watching  wantWatch  \\\n",
       "9964  ['No Dialogue', 'Shorts']          []    399.0         1         33   \n",
       "\n",
       "      dropped  rating  votes  \n",
       "9964        3   2.083  217.0  "
      ]
     },
     "execution_count": 181,
     "metadata": {},
     "output_type": "execute_result"
    }
   ],
   "source": [
    "#What is the oldest anime on the list?\n",
    "anime_data = pandas.read_csv(\"anime.csv\")\n",
    "# anime_data['duration'].dropna().sort_values('startYR', ascending = False)\n",
    "oldest_anime = anime_data.sort_values('startYr',ascending = True)\n",
    "oldest_anime.head(1)\n"
   ]
  },
  {
   "cell_type": "code",
   "execution_count": 3,
   "id": "5010964f",
   "metadata": {},
   "outputs": [],
   "source": [
    "import pandas\n",
    "\n",
    "pandas.options.display.max_columns = None\n",
    "pandas.options.display.max_rows = None\n",
    "#How many different anime studios are there?\n",
    "anime_data = pandas.read_csv(\"anime.csv\")\n",
    "# # studios = [anime_data['studios'].unique()]\n",
    "# # studios\n",
    "# studios = anime_data.studios\n",
    "# unique_studios = studios.dropna().unique\n",
    "# unique_studios\n",
    "\n",
    "\n",
    "\n"
   ]
  },
  {
   "cell_type": "code",
   "execution_count": 244,
   "id": "b3a71fdf",
   "metadata": {},
   "outputs": [
    {
     "data": {
      "text/html": [
       "<div>\n",
       "<style scoped>\n",
       "    .dataframe tbody tr th:only-of-type {\n",
       "        vertical-align: middle;\n",
       "    }\n",
       "\n",
       "    .dataframe tbody tr th {\n",
       "        vertical-align: top;\n",
       "    }\n",
       "\n",
       "    .dataframe thead th {\n",
       "        text-align: right;\n",
       "    }\n",
       "</style>\n",
       "<table border=\"1\" class=\"dataframe\">\n",
       "  <thead>\n",
       "    <tr style=\"text-align: right;\">\n",
       "      <th></th>\n",
       "      <th>title</th>\n",
       "      <th>mediaType</th>\n",
       "      <th>eps</th>\n",
       "      <th>duration</th>\n",
       "      <th>ongoing</th>\n",
       "      <th>startYr</th>\n",
       "      <th>finishYr</th>\n",
       "      <th>sznOfRelease</th>\n",
       "      <th>description</th>\n",
       "      <th>studios</th>\n",
       "      <th>tags</th>\n",
       "      <th>contentWarn</th>\n",
       "      <th>watched</th>\n",
       "      <th>watching</th>\n",
       "      <th>wantWatch</th>\n",
       "      <th>dropped</th>\n",
       "      <th>rating</th>\n",
       "      <th>votes</th>\n",
       "    </tr>\n",
       "  </thead>\n",
       "  <tbody>\n",
       "    <tr>\n",
       "      <th>12500</th>\n",
       "      <td>Balgwanghaneun Hyeondaesa</td>\n",
       "      <td>Movie</td>\n",
       "      <td>1.0</td>\n",
       "      <td>235.0</td>\n",
       "      <td>False</td>\n",
       "      <td>2014.0</td>\n",
       "      <td>2014.0</td>\n",
       "      <td>NaN</td>\n",
       "      <td>NaN</td>\n",
       "      <td>['Studio Dadashow']</td>\n",
       "      <td>['Drama', 'Korean Animation']</td>\n",
       "      <td>[]</td>\n",
       "      <td>10.0</td>\n",
       "      <td>1</td>\n",
       "      <td>31</td>\n",
       "      <td>0</td>\n",
       "      <td>NaN</td>\n",
       "      <td>NaN</td>\n",
       "    </tr>\n",
       "  </tbody>\n",
       "</table>\n",
       "</div>"
      ],
      "text/plain": [
       "                           title mediaType  eps  duration  ongoing  startYr  \\\n",
       "12500  Balgwanghaneun Hyeondaesa     Movie  1.0     235.0    False   2014.0   \n",
       "\n",
       "       finishYr sznOfRelease description              studios  \\\n",
       "12500    2014.0          NaN         NaN  ['Studio Dadashow']   \n",
       "\n",
       "                                tags contentWarn  watched  watching  \\\n",
       "12500  ['Drama', 'Korean Animation']          []     10.0         1   \n",
       "\n",
       "       wantWatch  dropped  rating  votes  \n",
       "12500         31        0     NaN    NaN  "
      ]
     },
     "execution_count": 244,
     "metadata": {},
     "output_type": "execute_result"
    }
   ],
   "source": [
    "#What is the longest duration(startYr to finishYr) of anime?\n",
    "anime_data = pandas.read_csv(\"anime.csv\")\n",
    "average_duration = anime_data.sort_values('duration',ascending = False)\n",
    "average_duration.head(1)\n",
    "\n"
   ]
  },
  {
   "cell_type": "code",
   "execution_count": 40,
   "id": "4977cc09",
   "metadata": {},
   "outputs": [
    {
     "ename": "AttributeError",
     "evalue": "'list' object has no attribute 'iloc'",
     "output_type": "error",
     "traceback": [
      "\u001b[1;31m---------------------------------------------------------------------------\u001b[0m",
      "\u001b[1;31mAttributeError\u001b[0m                            Traceback (most recent call last)",
      "Cell \u001b[1;32mIn [40], line 5\u001b[0m\n\u001b[0;32m      3\u001b[0m anime_rating \u001b[38;5;241m=\u001b[39m anime_data\u001b[38;5;241m.\u001b[39miloc[:,\u001b[38;5;241m16\u001b[39m]\n\u001b[0;32m      4\u001b[0m studios_list \u001b[38;5;241m=\u001b[39m [anime_data[\u001b[38;5;124m'\u001b[39m\u001b[38;5;124mstudios\u001b[39m\u001b[38;5;124m'\u001b[39m]\u001b[38;5;241m.\u001b[39mdropna()]\n\u001b[1;32m----> 5\u001b[0m \u001b[43mstudios_list\u001b[49m\u001b[38;5;241;43m.\u001b[39;49m\u001b[43miloc\u001b[49m[\u001b[38;5;241m5275\u001b[39m]\n",
      "\u001b[1;31mAttributeError\u001b[0m: 'list' object has no attribute 'iloc'"
     ]
    }
   ],
   "source": [
    "# # what are the top 5 highest average rating studios?\n",
    "# # anime_data.head(5)\n",
    "# anime_rating = anime_data.iloc[:,16]\n",
    "# studios_list = [anime_data['studios'].dropna()]\n",
    "# studios_list.iloc[5275]\n",
    "# # anime_rating.iloc[12500]"
   ]
  },
  {
   "cell_type": "code",
   "execution_count": 134,
   "id": "8d391060",
   "metadata": {},
   "outputs": [],
   "source": [
    "# anime_searcher = anime_data[(anime_data['startYr'] >= 1900) & (anime_data['startYr'] <= 1910) ]\n",
    "#anime_data[(anime_data['startYr'] >= 1911) & (anime_data['startYr'] <= 1920) ]\n",
    "#anime_data[(anime_data['startYr'] >= 1921) & (anime_data['startYr'] <= 1930) ]\n",
    "#anime_data[(anime_data['startYr'] >= 1931) & (anime_data['startYr'] <= 1940) ]\n",
    "# anime_data[(anime_data['startYr'] >= 1941) & (anime_data['startYr'] <= 1950) ]\n",
    "# anime_data[(anime_data['startYr'] >= 1951) & (anime_data['startYr'] <= 1960) ]\n",
    "# anime_data[(anime_data['startYr'] >= 1961) & (anime_data['startYr'] <= 1970) ]\n",
    "# anime_data[(anime_data['startYr'] >= 1971) & (anime_data['startYr'] <= 1980) ]\n",
    "# anime_data[(anime_data['startYr'] >= 1981) & (anime_data['startYr'] <= 1990) ]\n",
    "# anime_data[(anime_data['startYr'] >= 1991) & (anime_data['startYr'] <= 2000) ]\n",
    "# anime_data[(anime_data['startYr'] >= 2001) & (anime_data['startYr'] <= 2010) ]\n",
    "# anime_data[(anime_data['startYr'] >= 2011) & (anime_data['startYr'] <= 2020) ]\n",
    "# anime_data[(anime_data['startYr'] >= 2021) & (anime_data['startYr'] <= 2022) ]\n",
    "#anime_searcher.rating.dropna().mean()"
   ]
  },
  {
   "cell_type": "code",
   "execution_count": 7,
   "id": "336757a6",
   "metadata": {},
   "outputs": [
    {
     "data": {
      "text/plain": [
       "<AxesSubplot: xlabel='decades', ylabel='rating'>"
      ]
     },
     "execution_count": 7,
     "metadata": {},
     "output_type": "execute_result"
    },
    {
     "data": {
      "image/png": "[encoded data removed]",
      "text/plain": [
       "<Figure size 2000x400 with 1 Axes>"
      ]
     },
     "metadata": {},
     "output_type": "display_data"
    }
   ],
   "source": [
    "#anime from different\n",
    "animes_from_different_decades = {\n",
    "    \"decades\" : [\n",
    "        \"1900-1910\",\n",
    "        \"1911-1920\",\n",
    "        \"1921-1930\",\n",
    "        \"1931-1940\",\n",
    "        \"1941-1950\",\n",
    "        \"1951-1960\",\n",
    "        \"1961-1970\",\n",
    "        \"1971-1980\",\n",
    "        \"1981-1990\",\n",
    "        \"1991-2000\",\n",
    "        \"2001-2010\",\n",
    "        \"2011-2020\"],\n",
    "    \"rating\" : [\n",
    "                anime_data[(anime_data['startYr'] >= 1900) & (anime_data['startYr'] <= 1910)].rating.dropna().mean(),\n",
    "                anime_data[(anime_data['startYr'] >= 1911) & (anime_data['startYr'] <= 1920)].rating.dropna().mean(),\n",
    "                anime_data[(anime_data['startYr'] >= 1921) & (anime_data['startYr'] <= 1930)].rating.dropna().mean(),\n",
    "                anime_data[(anime_data['startYr'] >= 1931) & (anime_data['startYr'] <= 1940)].rating.dropna().mean(),\n",
    "                anime_data[(anime_data['startYr'] >= 1941) & (anime_data['startYr'] <= 1950)].rating.dropna().mean(),\n",
    "                anime_data[(anime_data['startYr'] >= 1951) & (anime_data['startYr'] <= 1960)].rating.dropna().mean(),\n",
    "                anime_data[(anime_data['startYr'] >= 1961) & (anime_data['startYr'] <= 1970)].rating.dropna().mean(),\n",
    "                anime_data[(anime_data['startYr'] >= 1971) & (anime_data['startYr'] <= 1980)].rating.dropna().mean(),\n",
    "                anime_data[(anime_data['startYr'] >= 1981) & (anime_data['startYr'] <= 1990)].rating.dropna().mean(),\n",
    "                anime_data[(anime_data['startYr'] >= 1991) & (anime_data['startYr'] <= 2000)].rating.dropna().mean(),\n",
    "                anime_data[(anime_data['startYr'] >= 2001) & (anime_data['startYr'] <= 2010)].rating.dropna().mean(),\n",
    "                anime_data[(anime_data['startYr'] >= 2011) & (anime_data['startYr'] <= 2020)].rating.dropna().mean(),\n",
    "                ]\n",
    "    }\n",
    "seaborn.set(rc={\"figure.figsize\":(20, 4)})\n",
    "vis_df = pandas.DataFrame(animes_from_different_decades)\n",
    "seaborn.barplot(data = vis_df, x = \"decades\", y = \"rating\")\n"
   ]
  },
  {
   "cell_type": "code",
   "execution_count": 117,
   "id": "31445c7a",
   "metadata": {},
   "outputs": [
    {
     "data": {
      "text/plain": [
       "<AxesSubplot: xlabel='Content_warning', ylabel='Rating'>"
      ]
     },
     "execution_count": 117,
     "metadata": {},
     "output_type": "execute_result"
    },
    {
     "data": {
      "image/png": "[encoded data removed]",
      "text/plain": [
       "<Figure size 1000x500 with 1 Axes>"
      ]
     },
     "metadata": {},
     "output_type": "display_data"
    }
   ],
   "source": [
    "# anime_age_group.head(51)\n",
    "# Does having a content warning boost view and rating(sort of like clickbaiting)(ratings)\n",
    "no_content = anime_data[anime_data['contentWarn'] == '[]']\n",
    "yes_content = anime_data[anime_data['contentWarn'] != '[]']\n",
    "content_warning_effect = {\n",
    "    \"Content_warning\" : [\"yes\",\"no\"],\n",
    "    \"Rating\" : [yes_content.rating.mean(), \n",
    "                no_content.rating.mean()]\n",
    "}\n",
    "seaborn.set(rc={\"figure.figsize\":(10, 5)})\n",
    "vis_df = pandas.DataFrame(content_warning_effect)\n",
    "seaborn.barplot(data = vis_df, x = \"Content_warning\", y = \"Rating\")"
   ]
  },
  {
   "cell_type": "code",
   "execution_count": 111,
   "id": "35a6c020",
   "metadata": {},
   "outputs": [
    {
     "data": {
      "text/plain": [
       "3.228952005730659"
      ]
     },
     "execution_count": 111,
     "metadata": {},
     "output_type": "execute_result"
    }
   ],
   "source": [
    "no_content = anime_data[anime_data['contentWarn'] != '[]']\n",
    "no_content.rating.mean()"
   ]
  },
  {
   "cell_type": "code",
   "execution_count": 112,
   "id": "744e5870",
   "metadata": {},
   "outputs": [
    {
     "data": {
      "text/plain": [
       "2.912170198860984"
      ]
     },
     "execution_count": 112,
     "metadata": {},
     "output_type": "execute_result"
    }
   ],
   "source": [
    "yes_content = anime_data[anime_data['contentWarn'] == '[]']\n",
    "yes_content.rating.mean()"
   ]
  },
  {
   "cell_type": "code",
   "execution_count": 228,
   "id": "1fcac93f",
   "metadata": {
    "scrolled": true
   },
   "outputs": [
    {
     "data": {
      "text/plain": [
       "<AxesSubplot: xlabel='Content_warning', ylabel='views(in 10 millions)'>"
      ]
     },
     "execution_count": 228,
     "metadata": {},
     "output_type": "execute_result"
    },
    {
     "data": {
      "image/png": "[encoded data removed]",
      "text/plain": [
       "<Figure size 500x300 with 1 Axes>"
      ]
     },
     "metadata": {},
     "output_type": "display_data"
    }
   ],
   "source": [
    "# 10)Does having a content warning boost view and rating(sort of like clickbaiting)?(views)\n",
    "no_content = anime_data[anime_data['contentWarn'] == '[]']\n",
    "yes_content = anime_data[anime_data['contentWarn'] != '[]']\n",
    "content_warning_effect2 = {\n",
    "    \"Content_warning\" : [\"yes\",\"no\"],\n",
    "    \"views(in 10 millions)\" : [yes_content.watched.sum(), \n",
    "                no_content.watched.sum()]\n",
    "}\n",
    "seaborn.set(rc={\"figure.figsize\":(5, 3)})\n",
    "vis_df = pandas.DataFrame(content_warning_effect2)\n",
    "seaborn.barplot(data = vis_df, x = \"Content_warning\", y = \"views(in 10 millions)\")"
   ]
  },
  {
   "cell_type": "code",
   "execution_count": 128,
   "id": "54515850",
   "metadata": {},
   "outputs": [
    {
     "data": {
      "text/plain": [
       "24366438.0"
      ]
     },
     "execution_count": 128,
     "metadata": {},
     "output_type": "execute_result"
    }
   ],
   "source": [
    "no_content.watched.sum()"
   ]
  },
  {
   "cell_type": "code",
   "execution_count": 160,
   "id": "9ce23e83",
   "metadata": {},
   "outputs": [
    {
     "data": {
      "text/plain": [
       "2.9102477609907963e-05"
      ]
     },
     "execution_count": 160,
     "metadata": {},
     "output_type": "execute_result"
    }
   ],
   "source": [
    "#Anime with the highest watch : rating ratio\n",
    "ratio = anime_data['rating'].dropna()/anime_data['watched'].dropna()\n",
    "ratio.max()\n",
    "# every view = inf rating(doesn't really make sense)"
   ]
  },
  {
   "cell_type": "code",
   "execution_count": 242,
   "id": "7126ef53",
   "metadata": {},
   "outputs": [
    {
     "data": {
      "text/plain": [
       "<AxesSubplot: xlabel='duration', ylabel='rating'>"
      ]
     },
     "execution_count": 242,
     "metadata": {},
     "output_type": "execute_result"
    },
    {
     "data": {
      "image/png": "[encoded data removed]",
      "text/plain": [
       "<Figure size 500x300 with 1 Axes>"
      ]
     },
     "metadata": {},
     "output_type": "display_data"
    }
   ],
   "source": [
    "# Does duration affect rating?\n",
    "duration_comparison = {\n",
    "    \"duration\" : [\"1-10\",\"11-20\",\"21-30\",\"31-40\",\"41-50\",\"51-100\",\"100+\"],\n",
    "    \"rating\" : [anime_data[(anime_data['duration'] >= 1) & (anime_data['duration'] <= 10)].rating.dropna().mean(),\n",
    "                anime_data[(anime_data['duration'] >= 11) & (anime_data['duration'] <= 20)].rating.dropna().mean(),\n",
    "                anime_data[(anime_data['duration'] >= 21) & (anime_data['duration'] <= 30)].rating.dropna().mean(),\n",
    "                anime_data[(anime_data['duration'] >= 31) & (anime_data['duration'] <= 40)].rating.dropna().mean(),\n",
    "                anime_data[(anime_data['duration'] >= 41) & (anime_data['duration'] <= 50)].rating.dropna().mean(),\n",
    "                anime_data[(anime_data['duration'] >= 51) & (anime_data['duration'] <= 100)].rating.dropna().mean(),\n",
    "                anime_data[(anime_data['duration'] >= 101)].rating.dropna().mean()]\n",
    "}\n",
    "\n",
    "seaborn.set(rc={\"figure.figsize\":(5, 3)})\n",
    "vis_df = pandas.DataFrame(duration_comparison)\n",
    "seaborn.barplot(data = vis_df, x = \"duration\", y = \"rating\")"
   ]
  },
  {
   "cell_type": "code",
   "execution_count": 219,
   "id": "8b9f819a",
   "metadata": {},
   "outputs": [
    {
     "data": {
      "text/plain": [
       "2.3740769041163423"
      ]
     },
     "execution_count": 219,
     "metadata": {},
     "output_type": "execute_result"
    }
   ],
   "source": [
    "anime_data[(anime_data['duration'] >= 1) & (anime_data['duration'] <= 10)].rating.dropna().mean()"
   ]
  },
  {
   "cell_type": "code",
   "execution_count": null,
   "id": "059e5187",
   "metadata": {},
   "outputs": [],
   "source": []
  }
 ],
 "metadata": {
  "kernelspec": {
   "display_name": "Python 3 (ipykernel)",
   "language": "python",
   "name": "python3"
  },
  "language_info": {
   "codemirror_mode": {
    "name": "ipython",
    "version": 3
   },
   "file_extension": ".py",
   "mimetype": "text/x-python",
   "name": "python",
   "nbconvert_exporter": "python",
   "pygments_lexer": "ipython3",
   "version": "3.10.7"
  }
 },
 "nbformat": 4,
 "nbformat_minor": 5
}
